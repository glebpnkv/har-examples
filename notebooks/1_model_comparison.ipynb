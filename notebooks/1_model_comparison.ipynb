{
 "cells": [
  {
   "cell_type": "markdown",
   "id": "1a3e374d-7eff-4f4f-922f-2229b5090ca1",
   "metadata": {},
   "source": [
    "# Human Activity Detection (HAR) Dataset: Cursory Comparison of Models"
   ]
  },
  {
   "cell_type": "code",
   "execution_count": null,
   "id": "10690c61-2144-4859-aa7e-c02dfb8e321d",
   "metadata": {},
   "outputs": [],
   "source": [
    "%load_ext autoreload\n",
    "%autoreload 2"
   ]
  },
  {
   "cell_type": "code",
   "execution_count": null,
   "id": "2b6d6726-9e36-4b32-b98f-9b231108ec9f",
   "metadata": {},
   "outputs": [],
   "source": [
    "import os\n",
    "import sys\n",
    "from pathlib import Path\n",
    "\n",
    "import pandas as pd\n",
    "import umap.plot\n",
    "import xgboost as xgb\n",
    "from umap import UMAP"
   ]
  },
  {
   "cell_type": "code",
   "execution_count": null,
   "id": "0746b635-1428-4076-b374-6f172f1faba5",
   "metadata": {},
   "outputs": [],
   "source": [
    "sys.path.append(\n",
    "    os.path.join(\n",
    "        Path(os.getcwd()).parents[0].as_posix(),\n",
    "        \"src\"\n",
    "    )\n",
    ")"
   ]
  },
  {
   "cell_type": "code",
   "execution_count": null,
   "id": "57590f6c-3996-47ab-b29f-39fff4b00e9a",
   "metadata": {},
   "outputs": [],
   "source": [
    "from data_loader import HARDataLoader"
   ]
  },
  {
   "cell_type": "code",
   "execution_count": null,
   "id": "7e779896-2803-4252-8bd9-05e27d14bbd6",
   "metadata": {},
   "outputs": [],
   "source": [
    "idx = pd.IndexSlice"
   ]
  },
  {
   "cell_type": "markdown",
   "id": "65b12ff7-6721-4c70-af2e-7c6c6c0fae20",
   "metadata": {},
   "source": [
    "# Loading Data"
   ]
  },
  {
   "cell_type": "code",
   "execution_count": null,
   "id": "f795e87d-c123-438e-a94b-47b9504e4661",
   "metadata": {},
   "outputs": [],
   "source": [
    "dl = HARDataLoader()"
   ]
  },
  {
   "cell_type": "code",
   "execution_count": null,
   "id": "17e2e8da-bdd6-4a02-adfa-c5a835216525",
   "metadata": {},
   "outputs": [],
   "source": [
    "dl.load()"
   ]
  },
  {
   "cell_type": "markdown",
   "id": "df91e6d9-c9b6-4224-8c52-ca5bc41654b0",
   "metadata": {},
   "source": [
    "# Intro"
   ]
  },
  {
   "cell_type": "code",
   "execution_count": null,
   "id": "bd4254fd-c3c1-4571-9e83-a6b7a77c6468",
   "metadata": {},
   "outputs": [],
   "source": [
    "dl.df_train_y[\"name\"].value_counts()"
   ]
  },
  {
   "cell_type": "code",
   "execution_count": null,
   "id": "0af00497-c6f6-4cc9-bb94-487e44fed23b",
   "metadata": {},
   "outputs": [],
   "source": [
    "dl.df_train_x.loc[0].reset_index(drop='subject_id').plot(\n",
    "    y=['body_acc_x', 'body_acc_y', 'body_acc_z']\n",
    ")"
   ]
  },
  {
   "cell_type": "markdown",
   "id": "2a553477-584d-4520-8995-4eba634f2f2b",
   "metadata": {},
   "source": [
    "# Baseline Model\n",
    "\n",
    "- HAR comes with a set of features created from sensor data time series:"
   ]
  },
  {
   "cell_type": "code",
   "execution_count": null,
   "id": "e83f4d0c-0c07-43a2-b09d-c227be14a6c0",
   "metadata": {},
   "outputs": [],
   "source": [
    "dl.df_train_x_tr.head()"
   ]
  },
  {
   "cell_type": "markdown",
   "id": "5e96c53a-28ee-4798-949a-4e0d1e140b30",
   "metadata": {},
   "source": [
    "- Features provide a good amount of data separation:"
   ]
  },
  {
   "cell_type": "code",
   "execution_count": null,
   "id": "252fd75a-0230-4ef5-811d-2aac1966bc05",
   "metadata": {
    "jupyter": {
     "source_hidden": true
    }
   },
   "outputs": [],
   "source": [
    "mapper = UMAP().fit(\n",
    "    dl.df_train_x_tr.values\n",
    ")"
   ]
  },
  {
   "cell_type": "code",
   "execution_count": null,
   "id": "e0697f9d-3ca0-445c-8d72-5c1208b8ce63",
   "metadata": {
    "jupyter": {
     "source_hidden": true
    }
   },
   "outputs": [],
   "source": [
    "umap.plot.points(\n",
    "    mapper, \n",
    "    labels=dl.df_train_y[\"name\"],\n",
    "    theme='fire'\n",
    ")"
   ]
  },
  {
   "cell_type": "markdown",
   "id": "6d92723d-dee9-43e6-a678-de94b51550a7",
   "metadata": {},
   "source": [
    "- Baseline classification results using ordinary XGBoost classifier with minimal tuning:"
   ]
  }
 ],
 "metadata": {
  "kernelspec": {
   "display_name": "Python 3 (ipykernel)",
   "language": "python",
   "name": "python3"
  },
  "language_info": {
   "codemirror_mode": {
    "name": "ipython",
    "version": 3
   },
   "file_extension": ".py",
   "mimetype": "text/x-python",
   "name": "python",
   "nbconvert_exporter": "python",
   "pygments_lexer": "ipython3",
   "version": "3.11.5"
  }
 },
 "nbformat": 4,
 "nbformat_minor": 5
}
